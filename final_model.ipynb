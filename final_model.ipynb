{
 "cells": [
  {
   "cell_type": "code",
   "execution_count": 67,
   "id": "13e54ecc",
   "metadata": {},
   "outputs": [],
   "source": [
    "import pandas as pd\n",
    "import numpy as np\n",
    "import lightgbm as lgb\n",
    "import catboost\n",
    "from sklearn.metrics import mean_absolute_error\n",
    "from sklearn.model_selection import KFold"
   ]
  },
  {
   "cell_type": "code",
   "execution_count": 326,
   "id": "b21b2dd0",
   "metadata": {},
   "outputs": [],
   "source": [
    "data = pd.read_csv('data.csv')\n",
    "model = pd.read_csv('model.csv')\n",
    "data = data.merge(model, on='incident')"
   ]
  },
  {
   "cell_type": "code",
   "execution_count": 327,
   "id": "78050d7b",
   "metadata": {},
   "outputs": [],
   "source": [
    "data['y'] = data.APPLICATION_MONTH.apply(lambda x: int(str(x)[:4]))\n",
    "data['m'] = data.APPLICATION_MONTH.apply(lambda x: int(str(x)[5:]))"
   ]
  },
  {
   "cell_type": "code",
   "execution_count": 329,
   "id": "3766869d",
   "metadata": {},
   "outputs": [],
   "source": [
    "train = data.iloc[:81617, :]\n",
    "test = data.iloc[81617:, :]"
   ]
  },
  {
   "cell_type": "code",
   "execution_count": 330,
   "id": "8458bfac",
   "metadata": {},
   "outputs": [],
   "source": [
    "temp = pd.read_excel('drop_cols.xlsx')\n",
    "drop_cols = temp.f.values"
   ]
  },
  {
   "cell_type": "markdown",
   "id": "50d2817c",
   "metadata": {},
   "source": [
    "### LightGBM"
   ]
  },
  {
   "cell_type": "code",
   "execution_count": 332,
   "id": "6335a284",
   "metadata": {},
   "outputs": [],
   "source": [
    "folds = KFold(n_splits = 5, shuffle=True, random_state=235)"
   ]
  },
  {
   "cell_type": "code",
   "execution_count": 333,
   "id": "264b344a",
   "metadata": {},
   "outputs": [],
   "source": [
    "param = {\n",
    "         \"boosting\": \"gbdt\",\n",
    "         'objective':'regression',\n",
    "         'learning_rate': 0.1,\n",
    "         \"metric\": 'mae',\n",
    "         #'max_depth': 7,\n",
    "         \"verbosity\": -1,\n",
    "         #\"lambda_l1\": 0.7,\n",
    "         \"bagging_seed\": 11,\n",
    "}"
   ]
  },
  {
   "cell_type": "code",
   "execution_count": 334,
   "id": "c164fe69",
   "metadata": {},
   "outputs": [
    {
     "name": "stdout",
     "output_type": "stream",
     "text": [
      "----\n",
      "fold n°0\n",
      "Training until validation scores don't improve for 250 rounds\n",
      "[100]\ttraining's l1: 0.0243842\tvalid_1's l1: 0.0274686\n",
      "[200]\ttraining's l1: 0.0225486\tvalid_1's l1: 0.0273326\n",
      "[300]\ttraining's l1: 0.0212734\tvalid_1's l1: 0.0274529\n",
      "[400]\ttraining's l1: 0.020276\tvalid_1's l1: 0.0275817\n",
      "Early stopping, best iteration is:\n",
      "[177]\ttraining's l1: 0.0228886\tvalid_1's l1: 0.0273171\n",
      "----\n",
      "fold n°1\n",
      "Training until validation scores don't improve for 250 rounds\n",
      "[100]\ttraining's l1: 0.0245503\tvalid_1's l1: 0.0277597\n",
      "[200]\ttraining's l1: 0.0226309\tvalid_1's l1: 0.0276102\n",
      "[300]\ttraining's l1: 0.0213102\tvalid_1's l1: 0.0276828\n",
      "[400]\ttraining's l1: 0.0202912\tvalid_1's l1: 0.0277801\n",
      "Early stopping, best iteration is:\n",
      "[191]\ttraining's l1: 0.0227613\tvalid_1's l1: 0.0275973\n",
      "----\n",
      "fold n°2\n",
      "Training until validation scores don't improve for 250 rounds\n",
      "[100]\ttraining's l1: 0.0246701\tvalid_1's l1: 0.0268242\n",
      "[200]\ttraining's l1: 0.0227629\tvalid_1's l1: 0.026729\n",
      "[300]\ttraining's l1: 0.0215107\tvalid_1's l1: 0.0267496\n",
      "[400]\ttraining's l1: 0.0204909\tvalid_1's l1: 0.0269013\n",
      "Early stopping, best iteration is:\n",
      "[184]\ttraining's l1: 0.0230087\tvalid_1's l1: 0.0267194\n",
      "----\n",
      "fold n°3\n",
      "Training until validation scores don't improve for 250 rounds\n",
      "[100]\ttraining's l1: 0.0244936\tvalid_1's l1: 0.027915\n",
      "[200]\ttraining's l1: 0.0225928\tvalid_1's l1: 0.0277554\n",
      "[300]\ttraining's l1: 0.0213203\tvalid_1's l1: 0.027807\n",
      "[400]\ttraining's l1: 0.0203034\tvalid_1's l1: 0.0279527\n",
      "Early stopping, best iteration is:\n",
      "[167]\ttraining's l1: 0.0230937\tvalid_1's l1: 0.0277339\n",
      "----\n",
      "fold n°4\n",
      "Training until validation scores don't improve for 250 rounds\n",
      "[100]\ttraining's l1: 0.0245284\tvalid_1's l1: 0.0273609\n",
      "[200]\ttraining's l1: 0.0226297\tvalid_1's l1: 0.0272775\n",
      "[300]\ttraining's l1: 0.0213565\tvalid_1's l1: 0.0273645\n",
      "[400]\ttraining's l1: 0.0203172\tvalid_1's l1: 0.0274675\n",
      "Early stopping, best iteration is:\n",
      "[192]\ttraining's l1: 0.022755\tvalid_1's l1: 0.0272643\n"
     ]
    },
    {
     "data": {
      "text/plain": [
       "0.02732639832739961"
      ]
     },
     "execution_count": 334,
     "metadata": {},
     "output_type": "execute_result"
    }
   ],
   "source": [
    "mvalid = np.zeros(len(train))\n",
    "mfull  = np.zeros(len(test))\n",
    "y = train['PD']\n",
    "\n",
    "for fold_, (trn_idx, val_idx) in enumerate(folds.split(train.drop(drop_cols, axis=1).values, train.drop(drop_cols, axis=1).values)):\n",
    "    print('----')\n",
    "    print(\"fold n°{}\".format(fold_))\n",
    "    \n",
    "    x0, y0 = train.drop(drop_cols, axis=1).iloc[trn_idx], y[trn_idx]\n",
    "    x1, y1 = train.drop(drop_cols, axis=1).iloc[val_idx], y[val_idx]\n",
    "    \n",
    "    trn_data = lgb.Dataset(x0, label= y0); val_data = lgb.Dataset(x1, label= y1)\n",
    "    \n",
    "    num_round = 2500\n",
    "    clf = lgb.train(param, trn_data, num_round, valid_sets = [trn_data, val_data], \n",
    "                    verbose_eval=100, early_stopping_rounds = 250)\n",
    "    mvalid[val_idx] = clf.predict(x1, num_iteration=clf.best_iteration)\n",
    "    \n",
    "    mfull += clf.predict(test.drop(drop_cols, axis=1), num_iteration=clf.best_iteration) / folds.n_splits\n",
    "    \n",
    "mean_absolute_error(mvalid, y)"
   ]
  },
  {
   "cell_type": "code",
   "execution_count": 335,
   "id": "5d1cc40e",
   "metadata": {},
   "outputs": [],
   "source": [
    "#pd.DataFrame(mfull).to_csv('sub38.csv', header=None, index=None)"
   ]
  },
  {
   "cell_type": "markdown",
   "id": "290be473",
   "metadata": {},
   "source": [
    "### Catboost"
   ]
  },
  {
   "cell_type": "code",
   "execution_count": 336,
   "id": "0414775b",
   "metadata": {},
   "outputs": [],
   "source": [
    "K = 5\n",
    "kf = KFold(n_splits = K, random_state = 1, shuffle = True)"
   ]
  },
  {
   "cell_type": "code",
   "execution_count": 337,
   "id": "88d18c10",
   "metadata": {},
   "outputs": [],
   "source": [
    "model = catboost.CatBoostRegressor(\n",
    "    learning_rate=0.01, \n",
    "    depth=8, \n",
    "    #l2_leaf_reg = 14, \n",
    "    iterations = 9000,\n",
    "    verbose = False,\n",
    "    loss_function='MAE',\n",
    "    task_type=\"GPU\"\n",
    ")"
   ]
  },
  {
   "cell_type": "code",
   "execution_count": 338,
   "id": "e0b6115b",
   "metadata": {},
   "outputs": [
    {
     "name": "stdout",
     "output_type": "stream",
     "text": [
      "\n",
      "Fold  0\n",
      "  N trees =  5329\n",
      "  MAE =  0.02357395312553761\n",
      "\n",
      "Fold  1\n",
      "  N trees =  4242\n",
      "  MAE =  0.024242401063470972\n",
      "\n",
      "Fold  2\n",
      "  N trees =  5098\n",
      "  MAE =  0.024219867315368283\n",
      "\n",
      "Fold  3\n",
      "  N trees =  6632\n",
      "  MAE =  0.0243295441923367\n",
      "\n",
      "Fold  4\n",
      "  N trees =  4206\n",
      "  MAE =  0.023805178504947\n"
     ]
    }
   ],
   "source": [
    "X = train.drop(drop_cols, axis=1).values\n",
    "y = train['PD'].values\n",
    "y_test_pred  = np.zeros(len(test))\n",
    "for i, (train_index, test_index) in enumerate(kf.split(train.drop(drop_cols, axis=1))):\n",
    "    y_train, y_valid = y[train_index], y[test_index]\n",
    "    X_train, X_valid = X[train_index,:], X[test_index,:]\n",
    "    print( \"\\nFold \", i)\n",
    "    \n",
    "    fit_model = model.fit( X_train, y_train, \n",
    "                           eval_set=(X_valid, y_valid),\n",
    "                           use_best_model=True,\n",
    "                           early_stopping_rounds=300\n",
    "                         )\n",
    "    print( \"  N trees = \", model.tree_count_ )\n",
    "        \n",
    "    pred = fit_model.predict(X_valid)\n",
    "    print( \"  MAE = \", mean_absolute_error(y_valid, pred) )\n",
    "    y_test_pred += fit_model.predict(test.drop(drop_cols, axis=1))\n",
    "    \n",
    "y_test_pred /= K"
   ]
  },
  {
   "cell_type": "code",
   "execution_count": 306,
   "id": "bc8f6acb",
   "metadata": {},
   "outputs": [],
   "source": [
    "#pd.DataFrame(y_test_pred).to_csv('sub36.csv', header=None, index=None)"
   ]
  },
  {
   "cell_type": "code",
   "execution_count": 359,
   "id": "98eebf4d",
   "metadata": {},
   "outputs": [],
   "source": [
    "pred = 1.065*(0.5*y_test_pred + 0.5*mfull)"
   ]
  },
  {
   "cell_type": "code",
   "execution_count": 360,
   "id": "34e62603",
   "metadata": {},
   "outputs": [],
   "source": [
    "pd.DataFrame(pred).to_csv('sub.csv', header=None, index=None)"
   ]
  }
 ],
 "metadata": {
  "kernelspec": {
   "display_name": "Python 3",
   "language": "python",
   "name": "python3"
  },
  "language_info": {
   "codemirror_mode": {
    "name": "ipython",
    "version": 3
   },
   "file_extension": ".py",
   "mimetype": "text/x-python",
   "name": "python",
   "nbconvert_exporter": "python",
   "pygments_lexer": "ipython3",
   "version": "3.8.8"
  }
 },
 "nbformat": 4,
 "nbformat_minor": 5
}
